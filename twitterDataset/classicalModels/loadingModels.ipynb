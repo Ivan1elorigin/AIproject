{
 "cells": [
  {
   "cell_type": "code",
   "execution_count": 1,
   "id": "aa634515-357d-4154-ab2a-0d98bb3f1072",
   "metadata": {},
   "outputs": [],
   "source": [
    "import sys\n",
    "import nltk\n",
    "import sklearn\n",
    "import pandas as pd\n",
    "import numpy as np"
   ]
  },
  {
   "cell_type": "code",
   "execution_count": 2,
   "id": "a26f7ae9-3f3e-47fc-b9e0-e345ca7d8390",
   "metadata": {},
   "outputs": [],
   "source": [
    "from nltk.corpus import stopwords"
   ]
  },
  {
   "cell_type": "code",
   "execution_count": 3,
   "id": "58c6dac8-cbcc-4e17-a9be-ce53cbe9f6b0",
   "metadata": {},
   "outputs": [],
   "source": [
    "from nltk.tokenize import word_tokenize"
   ]
  },
  {
   "cell_type": "code",
   "execution_count": 4,
   "id": "b01c5171-978a-4195-a2a9-e9b739735d72",
   "metadata": {},
   "outputs": [],
   "source": [
    "from sklearn.model_selection import train_test_split"
   ]
  },
  {
   "cell_type": "code",
   "execution_count": 5,
   "id": "9da125f3-bb43-4956-9f50-db9b7b734355",
   "metadata": {},
   "outputs": [],
   "source": [
    "from nltk.classify.scikitlearn import SklearnClassifier\n",
    "from sklearn.neighbors import KNeighborsClassifier\n",
    "from sklearn.tree import DecisionTreeClassifier\n",
    "from sklearn.ensemble import RandomForestClassifier\n",
    "from sklearn.linear_model import SGDClassifier\n",
    "from sklearn.naive_bayes import MultinomialNB\n",
    "from sklearn.svm import SVC\n",
    "from sklearn.metrics import classification_report, accuracy_score, confusion_matrix"
   ]
  },
  {
   "cell_type": "code",
   "execution_count": 6,
   "id": "4f6e7961-b16f-4445-9213-dab6c1ef0b8a",
   "metadata": {},
   "outputs": [],
   "source": [
    "from sklearn.ensemble import VotingClassifier"
   ]
  },
  {
   "cell_type": "code",
   "execution_count": 7,
   "id": "59f8255d-aaf5-4fa1-9894-f1618e441267",
   "metadata": {},
   "outputs": [],
   "source": [
    "import pickle\n",
    "from joblib import dump, load"
   ]
  },
  {
   "cell_type": "code",
   "execution_count": 8,
   "id": "cfd0323e-6812-4d90-9f77-a55e38021284",
   "metadata": {},
   "outputs": [],
   "source": [
    "# Funcion para cargar los modelos:\n",
    "model_paths = {\n",
    "    \"k_nearest_neighbors\": \"knn_model.pkl\",\n",
    "    \"decision_tree\": \"decision_tree_model.pkl\",\n",
    "    \"random_forest\": \"random_forest_model.pkl\",\n",
    "    \"naive_bayes\": \"naive_bayes_model.pkl\",\n",
    "    \"voting_classifier\": \"voting_classifier.pkl\"\n",
    "}\n",
    "\n",
    "def load_models():\n",
    "    loaded_models = {}\n",
    "    for name, path in model_paths.items():\n",
    "        with open(path, 'rb') as f:\n",
    "            loaded_models[name] = pickle.load(f)\n",
    "    return loaded_models\n"
   ]
  },
  {
   "cell_type": "code",
   "execution_count": 9,
   "id": "5c3c9953-7017-48e9-a72d-4f1f87c5c0fe",
   "metadata": {},
   "outputs": [],
   "source": [
    "loaded_models = load_models()"
   ]
  },
  {
   "cell_type": "code",
   "execution_count": 10,
   "id": "e1642c52-828a-485d-b079-bffa60a12af7",
   "metadata": {},
   "outputs": [
    {
     "data": {
      "text/plain": [
       "{'k_nearest_neighbors': KNeighborsClassifier(),\n",
       " 'decision_tree': DecisionTreeClassifier(),\n",
       " 'random_forest': RandomForestClassifier(),\n",
       " 'naive_bayes': MultinomialNB(),\n",
       " 'voting_classifier': <SklearnClassifier(VotingClassifier(estimators=[('K Nearest Neighbors', KNeighborsClassifier()),\n",
       "                              ('Decision Tree', DecisionTreeClassifier()),\n",
       "                              ('Random Forest', RandomForestClassifier()),\n",
       "                              ('Naive Bayes', MultinomialNB())],\n",
       "                  n_jobs=-1))>}"
      ]
     },
     "execution_count": 10,
     "metadata": {},
     "output_type": "execute_result"
    }
   ],
   "source": [
    "loaded_models"
   ]
  },
  {
   "cell_type": "code",
   "execution_count": 11,
   "id": "6e011373-99f4-4ea9-9379-460287bcd0bb",
   "metadata": {},
   "outputs": [],
   "source": [
    "message = pd.DataFrame({\"message\": [\n",
    "                                    \"As a woman you shouldn't complain about cleaning up your house.\",\n",
    "                                    \"All niggas people are disgusting criminals.\",\n",
    "                                    \"I hope all the faggots die.\",\n",
    "                                    \"As a woman you should dedicate yourself to cleaning and scrubbing. Dirty filthy slut.\",\n",
    "                                    \"As a woman you should dedicate yourself to cleaning and scrubbing.\",\n",
    "                                    \"I love you.\",\n",
    "                                    \"The other day I ate some fries that were disgusting.\",\n",
    "                                    '@CB_Baby24: @white_thunduh alsarabsss hes a beaner smh you can tell hes a mexican',\n",
    "                                    \"you're such a retard i hope you get type 2 diabetes and die from a sugar rush you fucking faggot @Dare_ILK\"\n",
    "                                    ]})"
   ]
  },
  {
   "cell_type": "code",
   "execution_count": 12,
   "id": "d5d16e4a-ca06-44b7-a1a7-8ac9cfb1ccc5",
   "metadata": {},
   "outputs": [],
   "source": [
    "message = message['message']"
   ]
  },
  {
   "cell_type": "markdown",
   "id": "05c9b67d-9b44-43d8-b232-d54ae938baae",
   "metadata": {},
   "source": [
    "Procesamos la cadena al igual que hemos hecho con el entrenamiento. Con expresiones regulares."
   ]
  },
  {
   "cell_type": "code",
   "execution_count": 13,
   "id": "47bf313f-182d-4b64-b242-b2d2caeac797",
   "metadata": {},
   "outputs": [],
   "source": [
    "message = message.str.replace(r'^!+', '', regex=True).str.replace(r'\\bRT\\b\\s+', '', regex=True).str.replace(r'@\\w+', 'users_name', regex=True).str.strip()"
   ]
  },
  {
   "cell_type": "code",
   "execution_count": 14,
   "id": "540616db-5656-4c63-b6e8-40fa0da50ef8",
   "metadata": {},
   "outputs": [],
   "source": [
    "# Remove punctuation\n",
    "message = message.str.replace(r'[^\\w\\d\\s]', ' ', regex=True)\n",
    "\n",
    "# Replace whitespace between terms with a single space\n",
    "message = message.str.replace(r'\\s+', ' ')\n",
    "\n",
    "# Remove leading and trailing whitespace\n",
    "message = message.str.replace(r'^\\s+|\\s+?$', '')"
   ]
  },
  {
   "cell_type": "code",
   "execution_count": 15,
   "id": "55ea133e-bfff-40a6-bd7c-002ececceacf",
   "metadata": {},
   "outputs": [
    {
     "data": {
      "text/plain": [
       "0    as a woman you shouldn t complain about cleani...\n",
       "1          all niggas people are disgusting criminals \n",
       "2                          i hope all the faggots die \n",
       "3    as a woman you should dedicate yourself to cle...\n",
       "4    as a woman you should dedicate yourself to cle...\n",
       "5                                          i love you \n",
       "6    the other day i ate some fries that were disgu...\n",
       "7    users_name  users_name alsarabsss hes a beaner...\n",
       "8    you re such a retard i hope you get type 2 dia...\n",
       "Name: message, dtype: object"
      ]
     },
     "execution_count": 15,
     "metadata": {},
     "output_type": "execute_result"
    }
   ],
   "source": [
    "message = message.str.lower()\n",
    "message"
   ]
  },
  {
   "cell_type": "markdown",
   "id": "dcba65fe-f57e-4447-820d-5d65f1b6b9b2",
   "metadata": {},
   "source": [
    "Eliminamos las stopwords."
   ]
  },
  {
   "cell_type": "code",
   "execution_count": 16,
   "id": "8f6d3ee2-792c-443f-972e-c392e402f860",
   "metadata": {},
   "outputs": [],
   "source": [
    "stop_words = set(stopwords.words('english'))\n",
    "\n",
    "message = message.apply(lambda x: ' '.join(term for term in x.split() if term not in stop_words))"
   ]
  },
  {
   "cell_type": "code",
   "execution_count": 17,
   "id": "d0e9770e-7d90-4e77-957f-30ea7614884c",
   "metadata": {},
   "outputs": [
    {
     "data": {
      "text/plain": [
       "0                        woman complain cleaning house\n",
       "1                   niggas people disgusting criminals\n",
       "2                                     hope faggots die\n",
       "3    woman dedicate cleaning scrubbing dirty filthy...\n",
       "4                    woman dedicate cleaning scrubbing\n",
       "5                                                 love\n",
       "6                             day ate fries disgusting\n",
       "7    users_name users_name alsarabsss hes beaner sm...\n",
       "8    retard hope get type 2 diabetes die sugar rush...\n",
       "Name: message, dtype: object"
      ]
     },
     "execution_count": 17,
     "metadata": {},
     "output_type": "execute_result"
    }
   ],
   "source": [
    "message"
   ]
  },
  {
   "cell_type": "markdown",
   "id": "0a039b2e-ef1b-492d-9768-1a0c5db0c2d9",
   "metadata": {},
   "source": [
    "Reducimos las palabras a su base."
   ]
  },
  {
   "cell_type": "code",
   "execution_count": 18,
   "id": "9b6a9fd2-249b-4211-aa09-10c8ec50dde2",
   "metadata": {},
   "outputs": [],
   "source": [
    "#Probamos de quitar el stemming\n",
    "\n",
    "ps = nltk.PorterStemmer()\n",
    "\n",
    "message = message.apply(lambda x: ' '.join(ps.stem(term) for term in x.split()))"
   ]
  },
  {
   "cell_type": "code",
   "execution_count": 19,
   "id": "a824b9b3-b9d4-4f68-b08d-cad41c6995c5",
   "metadata": {},
   "outputs": [
    {
     "data": {
      "text/plain": [
       "0                            woman complain clean hous\n",
       "1                           nigga peopl disgust crimin\n",
       "2                                      hope faggot die\n",
       "3            woman dedic clean scrub dirti filthi slut\n",
       "4                              woman dedic clean scrub\n",
       "5                                                 love\n",
       "6                                  day ate fri disgust\n",
       "7    users_nam users_nam alsarabsss he beaner smh t...\n",
       "8    retard hope get type 2 diabet die sugar rush f...\n",
       "Name: message, dtype: object"
      ]
     },
     "execution_count": 19,
     "metadata": {},
     "output_type": "execute_result"
    }
   ],
   "source": [
    "message"
   ]
  },
  {
   "cell_type": "markdown",
   "id": "5e4f24d9-8042-460e-87cf-ee9c4d618d4e",
   "metadata": {},
   "source": [
    "Importamos nuestro word_features"
   ]
  },
  {
   "cell_type": "code",
   "execution_count": 20,
   "id": "6cb82a74-104f-4aa0-bc46-cdf4eb68e2a4",
   "metadata": {},
   "outputs": [],
   "source": [
    "with open('word_features.pkl', 'rb') as f:\n",
    "    word_features = pickle.load(f)"
   ]
  },
  {
   "cell_type": "code",
   "execution_count": 21,
   "id": "86eb9762-3c33-4326-a70a-ac5c435e1710",
   "metadata": {},
   "outputs": [],
   "source": [
    "# word_features"
   ]
  },
  {
   "cell_type": "code",
   "execution_count": 22,
   "id": "11687972-129a-4c21-bc8e-8d1e8ce0c031",
   "metadata": {},
   "outputs": [],
   "source": [
    "def find_features(message):\n",
    "    words = word_tokenize(message)\n",
    "    features = {}\n",
    "    for word in word_features:\n",
    "        features[word] = (word in words)\n",
    "\n",
    "    return features"
   ]
  },
  {
   "cell_type": "code",
   "execution_count": 23,
   "id": "b74cc985-7c3f-4f26-b75b-b7a62b95d021",
   "metadata": {},
   "outputs": [],
   "source": [
    "features = []\n",
    "\n",
    "for sentence in message:\n",
    "    features.append(find_features(sentence)) \n"
   ]
  },
  {
   "cell_type": "code",
   "execution_count": 24,
   "id": "4287540f-61cf-4678-b67b-a811868868cd",
   "metadata": {},
   "outputs": [
    {
     "name": "stdout",
     "output_type": "stream",
     "text": [
      "hous\n",
      "woman\n",
      "clean\n",
      "complain\n",
      "nigga\n",
      "peopl\n",
      "disgust\n",
      "crimin\n",
      "faggot\n",
      "die\n",
      "hope\n",
      "woman\n",
      "dirti\n",
      "slut\n",
      "clean\n",
      "filthi\n",
      "dedic\n",
      "scrub\n",
      "woman\n",
      "clean\n",
      "dedic\n",
      "scrub\n",
      "love\n",
      "day\n",
      "ate\n",
      "fri\n",
      "disgust\n",
      "tell\n",
      "smh\n",
      "beaner\n",
      "mexican\n",
      "he\n",
      "fuck\n",
      "get\n",
      "faggot\n",
      "retard\n",
      "2\n",
      "die\n",
      "hope\n",
      "type\n",
      "sugar\n",
      "diabet\n"
     ]
    }
   ],
   "source": [
    "for feature in features:\n",
    "\n",
    "    for key, value in feature.items():\n",
    "        if value == True:\n",
    "            print(key)"
   ]
  },
  {
   "cell_type": "code",
   "execution_count": 25,
   "id": "2f38ec95-68ca-4890-9e4c-1891d6112e40",
   "metadata": {},
   "outputs": [
    {
     "data": {
      "text/plain": [
       "[('name', False),\n",
       " ('bitch', False),\n",
       " ('hoe', False),\n",
       " ('128514', False),\n",
       " ('http', False),\n",
       " ('co', False),\n",
       " ('like', False),\n",
       " ('fuck', False),\n",
       " ('pussi', False),\n",
       " ('nigga', False)]"
      ]
     },
     "execution_count": 25,
     "metadata": {},
     "output_type": "execute_result"
    }
   ],
   "source": [
    "list(features[0].items())[:10]"
   ]
  },
  {
   "cell_type": "code",
   "execution_count": 26,
   "id": "6d50cb93-8d3f-410f-a973-99ed6fbe8cb5",
   "metadata": {},
   "outputs": [],
   "source": [
    "# features"
   ]
  },
  {
   "cell_type": "code",
   "execution_count": 27,
   "id": "c659b893-a500-4082-b1ce-5cc5c3f0c052",
   "metadata": {},
   "outputs": [],
   "source": [
    "# features.length"
   ]
  },
  {
   "cell_type": "code",
   "execution_count": 28,
   "id": "4e8c9185-598b-452c-9b90-24c70d816bad",
   "metadata": {},
   "outputs": [],
   "source": [
    "# message_features = np.array([list(features.values())])"
   ]
  },
  {
   "cell_type": "code",
   "execution_count": 29,
   "id": "38729bc1-afd0-4d44-a8f3-ec83cf3a8543",
   "metadata": {},
   "outputs": [],
   "source": [
    "message_features = np.array([list(f.values()) for f in features])"
   ]
  },
  {
   "cell_type": "code",
   "execution_count": 30,
   "id": "6cb72f89-72f8-4e93-bba9-01317483651a",
   "metadata": {},
   "outputs": [
    {
     "data": {
      "text/plain": [
       "array([[False, False, False, ..., False, False, False],\n",
       "       [False, False, False, ..., False, False, False],\n",
       "       [False, False, False, ..., False, False, False],\n",
       "       ...,\n",
       "       [False, False, False, ..., False, False, False],\n",
       "       [False, False, False, ..., False, False, False],\n",
       "       [False, False, False, ..., False, False, False]])"
      ]
     },
     "execution_count": 30,
     "metadata": {},
     "output_type": "execute_result"
    }
   ],
   "source": [
    "message_features"
   ]
  },
  {
   "cell_type": "code",
   "execution_count": 31,
   "id": "d78dc209-dd76-4c50-a384-24a0fa1c6a5e",
   "metadata": {},
   "outputs": [
    {
     "data": {
      "text/plain": [
       "{'k_nearest_neighbors': KNeighborsClassifier(),\n",
       " 'decision_tree': DecisionTreeClassifier(),\n",
       " 'random_forest': RandomForestClassifier(),\n",
       " 'naive_bayes': MultinomialNB(),\n",
       " 'voting_classifier': <SklearnClassifier(VotingClassifier(estimators=[('K Nearest Neighbors', KNeighborsClassifier()),\n",
       "                              ('Decision Tree', DecisionTreeClassifier()),\n",
       "                              ('Random Forest', RandomForestClassifier()),\n",
       "                              ('Naive Bayes', MultinomialNB())],\n",
       "                  n_jobs=-1))>}"
      ]
     },
     "execution_count": 31,
     "metadata": {},
     "output_type": "execute_result"
    }
   ],
   "source": [
    "loaded_models"
   ]
  },
  {
   "cell_type": "code",
   "execution_count": 32,
   "id": "83c6d840-3837-4412-b0e6-06d33ea2e89d",
   "metadata": {},
   "outputs": [
    {
     "data": {
      "text/plain": [
       "'woman complain clean hous'"
      ]
     },
     "execution_count": 32,
     "metadata": {},
     "output_type": "execute_result"
    }
   ],
   "source": [
    "message[0]"
   ]
  },
  {
   "cell_type": "code",
   "execution_count": 33,
   "id": "09284f46-8c59-46d4-8f29-d079e87490a2",
   "metadata": {},
   "outputs": [],
   "source": [
    "message[0] = [message[0]]"
   ]
  },
  {
   "cell_type": "code",
   "execution_count": 34,
   "id": "df369917-5359-4f3e-b910-32d84d243827",
   "metadata": {},
   "outputs": [
    {
     "name": "stdout",
     "output_type": "stream",
     "text": [
      "k_nearest_neighbors :  KNeighborsClassifier()\n",
      "[1 1 1 1 1 1 0 1 1]\n",
      "decision_tree :  DecisionTreeClassifier()\n",
      "[2 2 2 2 2 2 1 2 2]\n",
      "random_forest :  RandomForestClassifier()\n",
      "[2 2 2 2 2 1 2 1 1]\n",
      "naive_bayes :  MultinomialNB()\n",
      "[2 2 1 2 2 1 0 1 0]\n",
      "voting_classifier :  <SklearnClassifier(VotingClassifier(estimators=[('K Nearest Neighbors', KNeighborsClassifier()),\n",
      "                             ('Decision Tree', DecisionTreeClassifier()),\n",
      "                             ('Random Forest', RandomForestClassifier()),\n",
      "                             ('Naive Bayes', MultinomialNB())],\n",
      "                 n_jobs=-1))>\n"
     ]
    }
   ],
   "source": [
    "for name in loaded_models.keys():\n",
    "    print(name, ': ', loaded_models[name])\n",
    "    if (name != 'voting_classifier'):\n",
    "        print(loaded_models[name].predict(message_features))    "
   ]
  },
  {
   "cell_type": "code",
   "execution_count": null,
   "id": "09da1470-150e-49bf-bb11-0995cab27a7f",
   "metadata": {},
   "outputs": [],
   "source": []
  }
 ],
 "metadata": {
  "kernelspec": {
   "display_name": "Python 3 (ipykernel)",
   "language": "python",
   "name": "python3"
  },
  "language_info": {
   "codemirror_mode": {
    "name": "ipython",
    "version": 3
   },
   "file_extension": ".py",
   "mimetype": "text/x-python",
   "name": "python",
   "nbconvert_exporter": "python",
   "pygments_lexer": "ipython3",
   "version": "3.12.4"
  }
 },
 "nbformat": 4,
 "nbformat_minor": 5
}
