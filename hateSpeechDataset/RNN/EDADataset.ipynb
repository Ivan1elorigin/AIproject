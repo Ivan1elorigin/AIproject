{
 "cells": [
  {
   "cell_type": "markdown",
   "id": "b862ab02-945d-4a75-b9cb-b7a735e402c6",
   "metadata": {},
   "source": [
    "https://www.kaggle.com/datasets/waalbannyantudre/hate-speech-detection-curated-dataset/data"
   ]
  },
  {
   "cell_type": "code",
   "execution_count": null,
   "id": "7f31020d-036d-4b34-8158-3edd6ce41729",
   "metadata": {},
   "outputs": [],
   "source": []
  }
 ],
 "metadata": {
  "kernelspec": {
   "display_name": "Python 3 (ipykernel)",
   "language": "python",
   "name": "python3"
  },
  "language_info": {
   "codemirror_mode": {
    "name": "ipython",
    "version": 3
   },
   "file_extension": ".py",
   "mimetype": "text/x-python",
   "name": "python",
   "nbconvert_exporter": "python",
   "pygments_lexer": "ipython3",
   "version": "3.12.4"
  }
 },
 "nbformat": 4,
 "nbformat_minor": 5
}
